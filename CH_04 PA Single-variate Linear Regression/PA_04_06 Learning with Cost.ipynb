{
 "cells": [
  {
   "cell_type": "markdown",
   "metadata": {},
   "source": [
    "# Chapter.4 Single-variate Linear Regression\n",
    "\n",
    "## Programming Assignment.4-06 Learning with Cost\n",
    "\n",
    "PA 4-06에서는 PA 4-05에서 살펴본 cost function의 contour plot을 이용하여 $\\theta_{1}, \\theta_{0}$가 update되는 모습을 살펴봅니다.  \n",
    "이는 linear regression에서 여러개의 data sample들에 대한 cost function을 이용해 weight와 bias를 update할 때, 학습에 어떤 영향을 미치는지 확인합니다.\n",
    "\n",
    "그리고 PA 4-06에서는 iteration마다 동일한 mini-batch를 사용하여 update합니다. 이를 통해 cost function의 모양에 따라 $\\theta_{1}, \\theta_{0}$가 어떻게 $\\theta_{1}^{*}, \\theta_{0}^{*}$에 가까워지는지 확인할 수 있습니다.  \n",
    "하지만 실제 linear regression 학습시에는 iteration마다 다른 data sample들이 사용되므로 cost function들은 달라집니다.  \n",
    "따라서 PA 4-06에서 cost function에 따른 학습경향에 집중하길 바랍니다.\n",
    "\n",
    "\n",
    "즉, PA 4-03에서 확인했듯이 data sample마다 contour plot의 모습이 달라지고 이 contour plot들을 이용하여 $\\theta_{1}, \\theta_{0}$가 학습되는 모습을 확인합니다.\n",
    "\n",
    "PA 4-04는 다음과 같은 단계들로 이루어집니다.\n",
    "\n",
    "<ul>\n",
    "    <li> Step.0 Related Functions </li>\n",
    "    <li> Step.1 Learning with Two Data Samples </li>\n",
    "    <li> Step.2 Learning with Many Data Samples </li>\n",
    "    <li> Step.3 Learning with Normal Distributions </li>\n",
    "</ul>\n"
   ]
  },
  {
   "cell_type": "code",
   "execution_count": 3,
   "metadata": {},
   "outputs": [],
   "source": [
    "import numpy as np\n",
    "import matplotlib.pyplot as plt\n",
    "import matplotlib.cm as cm\n",
    "\n",
    "plt.style.use('seaborn')\n",
    "np.random.seed(0)"
   ]
  },
  {
   "cell_type": "markdown",
   "metadata": {},
   "source": [
    "***\n",
    "## Step.0 Related Functions\n",
    "\n",
    "Step.0에서는 PA 4-06과 관련된 함수들을 정의합니다.  \n",
    "2가지 함수로 get_contours, trainer 함수입니다.  \n",
    "\n",
    "각각 PA 4-05에서 만들었던 cost funcntion의 contour plot을 그려주고, dataset에 대해 학습된 $\\theta_{1}, \\theta_{0}$을 return해줍니다.\n",
    "\n",
    "다음의 셀을 실행시켜 함수들을 정의해주세요."
   ]
  },
  {
   "cell_type": "code",
   "execution_count": 125,
   "metadata": {},
   "outputs": [],
   "source": [
    "def get_contours(x_data, y_data, ax):\n",
    "    th1_range = np.linspace(-1, 3, 100)\n",
    "    th0_range = np.linspace(1, 5, 100)\n",
    "    Th1, Th0 = np.meshgrid(th1_range, th0_range)\n",
    "\n",
    "    ax.tick_params(axis = 'both', labelsize = 20)\n",
    "    \n",
    "    cost = np.zeros(shape = Th1.shape)\n",
    "    for data_idx, (x,y) in enumerate(zip(x_data, y_data)):\n",
    "        loss = np.power(y - (Th1*x + Th0), 2)\n",
    "        cost += loss\n",
    "        \n",
    "        levels = np.geomspace(np.min(loss) + 0.01, np.max(loss), 30)\n",
    "        cmap = cm.get_cmap('Blues_r', lut = len(levels))\n",
    "        \n",
    "    levels = np.geomspace(np.min(cost) + 0.01, np.max(cost), 30)\n",
    "    cmap = cm.get_cmap('Blues_r', lut = len(levels))\n",
    "    ax.contour(Th1, Th0, cost,\n",
    "               levels = levels, cmap = cmap,\n",
    "               alpha = 0.5)\n",
    "    ax.set_xlabel(r\"$\\theta_{1}$\", fontsize = 30)\n",
    "    ax.set_ylabel(r\"$\\theta_{0}$\", fontsize = 30)\n",
    "    \n",
    "    \n",
    "def trainer(x_data, y_data, lr, epochs, th1, th0):\n",
    "    th1_list, th0_list = [th1], [th0]\n",
    "\n",
    "    for epoch in range(epochs):\n",
    "        dth1_list, dth0_list = [], []\n",
    "        for x,y in zip(x_data, y_data):\n",
    "            pred = th1*x + th0\n",
    "\n",
    "            dth1 = -2*x*(y-pred)\n",
    "            dth0 = -2*(y-pred)\n",
    "\n",
    "            dth1_list.append(dth1)\n",
    "            dth0_list.append(dth0)\n",
    "\n",
    "        dth1 = np.mean(np.array(dth1_list))\n",
    "        dth0 = np.mean(np.array(dth0_list))\n",
    "\n",
    "        th1 = th1 - lr*dth1\n",
    "        th0 = th0 - lr*dth0\n",
    "\n",
    "        th1_list.append(th1)\n",
    "        th0_list.append(th0)\n",
    "    return th1_list, th0_list\n",
    "\n",
    "def theta_tracker(x_data, y_data, th1_list, th0_list):\n",
    "    fig, ax = plt.subplots(figsize = (10,10))\n",
    "    get_contours(x_data, y_data, ax)\n",
    "    ax.plot(th1_list, th0_list,\n",
    "              marker = 'o', markersize = 5,\n",
    "              color = 'r', linestyle = ':')"
   ]
  },
  {
   "cell_type": "markdown",
   "metadata": {},
   "source": [
    "다음의 코드는 다음의 조건들에 대해 위의 2개 함수를 이용하여 dataset에 대해 $\\theta_{1}, \\theta_{0}$가 어떻게 update되는지 확인하는 코드입니다.  \n",
    "즉, dataset에 들어있는 4개의 data sample들을 이용해 cost를 구하고\n",
    "$$(\\theta_{1}, \\theta_{0}) := (\\theta_{1}, \\theta_{0}) - \\alpha \\bigtriangledown_{(\\theta_{1}, \\theta_{0})}{J}(\\theta_{1}, \\theta_{0})$$\n",
    "위의 식을 이용하여 iteration마다 $\\theta_{1}, \\theta_{0}$가 어떻게 변하는지 보여줍니다.\n",
    "\n",
    "- dataset from $y = x + 3$\n",
    "- x data : -0.5, -0.3, 0.5, 1\n",
    "- initial $\\theta_{1}, \\theta_{0}$ = 0.5, 1.2\n",
    "- learning rate = 0.1\n",
    "- total epoch = 20"
   ]
  },
  {
   "cell_type": "code",
   "execution_count": null,
   "metadata": {},
   "outputs": [],
   "source": [
    "# Dataset Preparation\n",
    "x_data = np.array([-0.5, -0.3, 0.5, 1])\n",
    "y_data = x_data + 3\n",
    "\n",
    "# Learning Preparation\n",
    "th1, th0 = 0.5, 1.2\n",
    "lr = 0.1\n",
    "epochs = 20\n",
    "\n",
    "# Learning\n",
    "th1_list, th0_list = trainer(x_data, y_data, lr, epochs, th1, th0)\n",
    "\n",
    "# Result Visualization\n",
    "theta_tracker(x_data, y_data, th1_list, th0_list)"
   ]
  },
  {
   "cell_type": "markdown",
   "metadata": {},
   "source": [
    "***\n",
    "## Step.1 Learning with Two Data Samples\n",
    "\n",
    "Step.1에서는 다양한 2개의 data sample들의 cost function을 이용해 학습이 어떻게 일어나는지 확인합니다.  \n",
    "이를 통해 기본적으로 loss function들의 평균값을 이용했을 때, 학습이 어떻게 일어나는지 알 수 있습니다.\n",
    "\n",
    "***\n",
    "**Programming**  \n",
    "먼저 \n",
    "- $(x^{(1)}, x^{(2)}) = (-1, 1)$  \n",
    "\n",
    "일 때의 학습을 살펴봅니다. 위의 테스트 코드에서 x_data를 수정하여 다음 조건에서의 학습을 확인하세요.  \n",
    "그리고 cost function이 이상적으로 convex할 때 $\\theta_{1}, \\theta_{0}$이 어떻게 $\\theta_{1}^{*}, \\theta_{0}^{*}$에 가까워지는지 경향성을 확인하세요.\n",
    "\n",
    "\n",
    "- initial $\\theta_{1}, \\theta_{0}$ = 0.5, 1.2\n",
    "- learning rate = 0.1\n",
    "- total epoch = 20"
   ]
  },
  {
   "cell_type": "code",
   "execution_count": null,
   "metadata": {},
   "outputs": [],
   "source": [
    "##### Start Your Code(Learning Preparation) #####\n",
    "x_data = \n",
    "y_data = \n",
    "\n",
    "th1, th0 = \n",
    "lr = \n",
    "epochs = \n",
    "##### End Your Code(Learning Preparation) #####\n",
    "\n",
    "##### Start Your Code(Learning) #####\n",
    "th1_list, th0_list = \n",
    "##### End Your Code(Learning) #####\n",
    "\n",
    "\n",
    "# Result Visualization\n",
    "theta_tracker(x_data, y_data, th1_list, th0_list)"
   ]
  },
  {
   "cell_type": "markdown",
   "metadata": {},
   "source": [
    "**Expected Output**  \n",
    "<img src='./imgs/4_06_01.png' width=400>"
   ]
  },
  {
   "cell_type": "markdown",
   "metadata": {},
   "source": [
    "\n",
    "***\n",
    "**Programming**  \n",
    "다음 data sample들의 x값에 대하여 학습을 살펴봅니다.\n",
    "- $(x^{(1)}, x^{(2)}) = (-2, 2)$  \n",
    "\n",
    "이 dataset에 대한 결과와 이전의 결과들을 비교해보고 그 원인을 수학적으로 분석해보세요.\n",
    "\n",
    "\n",
    "- initial $\\theta_{1}, \\theta_{0}$ = 0.5, 1.2\n",
    "- learning rate = 0.1\n",
    "- total epoch = 20"
   ]
  },
  {
   "cell_type": "code",
   "execution_count": null,
   "metadata": {},
   "outputs": [],
   "source": [
    "##### Start Your Code(Learning Preparation) #####\n",
    "x_data = \n",
    "y_data = \n",
    "\n",
    "th1, th0 = \n",
    "lr = \n",
    "epochs = \n",
    "##### End Your Code(Learning Preparation) #####\n",
    "\n",
    "\n",
    "##### Start Your Code(Learning) #####\n",
    "th1_list, th0_list = \n",
    "##### End Your Code(Learning) #####\n",
    "\n",
    "\n",
    "# Result Visualization\n",
    "theta_tracker(x_data, y_data, th1_list, th0_list)"
   ]
  },
  {
   "cell_type": "markdown",
   "metadata": {},
   "source": [
    "**Expected Output**  \n",
    "<img src='./imgs/4_06_02.png' width=400>"
   ]
  },
  {
   "cell_type": "markdown",
   "metadata": {},
   "source": [
    "***\n",
    "**Programming**  \n",
    "다음 data sample들의 x값에 대하여 학습을 살펴봅니다.\n",
    "- $(x^{(1)}, x^{(2)}) = (-0.5, 0.5)$  \n",
    "\n",
    "이 dataset에 대한 결과와 이전의 결과들을 비교해보고 그 원인을 수학적으로 분석해보세요.\n",
    "\n",
    "\n",
    "- initial $\\theta_{1}, \\theta_{0}$ = 0.5, 1.2\n",
    "- learning rate = 0.1\n",
    "- total epoch = 20"
   ]
  },
  {
   "cell_type": "code",
   "execution_count": null,
   "metadata": {},
   "outputs": [],
   "source": [
    "##### Start Your Code(Learning Preparation) #####\n",
    "x_data = \n",
    "y_data = \n",
    "\n",
    "th1, th0 = \n",
    "lr = \n",
    "epochs = \n",
    "##### End Your Code(Learning Preparation) #####\n",
    "\n",
    "\n",
    "##### Start Your Code(Learning) #####\n",
    "th1_list, th0_list = \n",
    "##### Start Your Code(Learning) #####\n",
    "\n",
    "\n",
    "# Result Visualization\n",
    "theta_tracker(x_data, y_data, th1_list, th0_list)"
   ]
  },
  {
   "cell_type": "markdown",
   "metadata": {},
   "source": [
    "**Expected Output**  \n",
    "<img src='./imgs/4_06_03.png' width=400>"
   ]
  },
  {
   "cell_type": "markdown",
   "metadata": {},
   "source": [
    "***\n",
    "**Programming**  \n",
    "다음 data sample들의 x값에 대하여 학습을 살펴봅니다.\n",
    "- $(x^{(1)}, x^{(2)}) = (2, 3)$  \n",
    "\n",
    "이 dataset에 대한 결과와 이전의 결과들을 비교해보고 그 원인을 수학적으로 분석해보세요.\n",
    "\n",
    "\n",
    "- initial $\\theta_{1}, \\theta_{0}$ = 0.5, 1.2\n",
    "- learning rate = 0.1\n",
    "- total epoch = 20"
   ]
  },
  {
   "cell_type": "code",
   "execution_count": null,
   "metadata": {},
   "outputs": [],
   "source": [
    "##### Start Your Code(Learning Preparation) #####\n",
    "x_data = \n",
    "y_data = \n",
    "\n",
    "th1, th0 = \n",
    "lr = \n",
    "epochs = \n",
    "##### End Your Code(Learning Preparation) #####\n",
    "\n",
    "\n",
    "##### Start Your Code(Learning) #####\n",
    "th1_list, th0_list = \n",
    "##### Start Your Code(Learning) #####\n",
    "\n",
    "\n",
    "# Result Visualization\n",
    "theta_tracker(x_data, y_data, th1_list, th0_list)"
   ]
  },
  {
   "cell_type": "markdown",
   "metadata": {},
   "source": [
    "**Expected Output**  \n",
    "<img src='./imgs/4_06_04.png' width=400>"
   ]
  },
  {
   "cell_type": "markdown",
   "metadata": {},
   "source": [
    "***\n",
    "**Programming**  \n",
    "다음 data sample들의 x값에 대하여 학습을 살펴봅니다.\n",
    "- $(x^{(1)}, x^{(2)}) = (0.1, 0.2)$  \n",
    "\n",
    "이 dataset에 대한 결과와 이전의 결과들을 비교해보고 그 원인을 수학적으로 분석해보세요.\n",
    "\n",
    "\n",
    "- initial $\\theta_{1}, \\theta_{0}$ = 0.5, 1.2\n",
    "- learning rate = 0.1\n",
    "- total epoch = 20"
   ]
  },
  {
   "cell_type": "code",
   "execution_count": null,
   "metadata": {},
   "outputs": [],
   "source": [
    "##### Start Your Code(Learning Preparation) #####\n",
    "x_data = \n",
    "y_data = \n",
    "\n",
    "th1, th0 = \n",
    "lr = \n",
    "epochs = \n",
    "##### End Your Code(Learning Preparation) #####\n",
    "\n",
    "\n",
    "##### Start Your Code(Learning) #####\n",
    "th1_list, th0_list = \n",
    "##### End Your Code(Learning) #####\n",
    "\n",
    "\n",
    "# Result Visualization\n",
    "theta_tracker(x_data, y_data, th1_list, th0_list)"
   ]
  },
  {
   "cell_type": "markdown",
   "metadata": {},
   "source": [
    "**Expected Output**  \n",
    "<img src='./imgs/4_06_05.png' width=400>"
   ]
  },
  {
   "cell_type": "markdown",
   "metadata": {},
   "source": [
    "***\n",
    "## Step.2 Learning with Many Data Samples\n",
    "\n",
    "Step.2에서는 여러개의 data sample들을 이용해 cost를 구하고 이 cost에 대해 GDM을 진행해봅니다.\n",
    "\n",
    "Step.2에서는 모든 PA 문제들에 대해 $J = \\theta_{1}^{2} + \\theta_{0}^{2}$의 모양에 가까워지도록 cost function을 만들고 이에 대해 GDM을 진행해보세요.  \n",
    "즉, $\\theta_{1}, \\theta_{0}$가 $\\theta_{1}^{*}, \\theta_{0}^{*}$에 최대한 direct하게 접근하도록 만들어보세요.\n",
    "\n",
    "***\n",
    "**Programming**  \n",
    "data sample 2개가 다음과 같이 주어졌을 때,  \n",
    "- $(x^{(1)}, x^{(2)}) = (0.1, 0.2)$  \n",
    "\n",
    "data sample들을 추가하여 $\\theta_{1}, \\theta_{0}$가 $\\theta_{1}^{*}, \\theta_{0}^{*}$에 direct하게 접근하도록 만들어보세요.\n",
    "\n",
    "- initial $\\theta_{1}, \\theta_{0}$ = 0.5, 1.2\n",
    "- learning rate = 0.1\n",
    "- total epoch = 20"
   ]
  },
  {
   "cell_type": "code",
   "execution_count": null,
   "metadata": {},
   "outputs": [],
   "source": [
    "##### Start Your Code(Learning Preparation) #####\n",
    "x_data = \n",
    "y_data = \n",
    "\n",
    "th1, th0 = \n",
    "lr = \n",
    "epochs = \n",
    "##### End Your Code(Learning Preparation) #####\n",
    "\n",
    "\n",
    "##### Start Your Code(Learning) #####\n",
    "th1_list, th0_list = \n",
    "##### End Your Code(Learning) #####\n",
    "\n",
    "\n",
    "# Result Visualization\n",
    "theta_tracker(x_data, y_data, th1_list, th0_list)"
   ]
  },
  {
   "cell_type": "markdown",
   "metadata": {},
   "source": [
    "**Expected Output**  \n",
    "<img src='./imgs/4_06_06.png' width=400>"
   ]
  },
  {
   "cell_type": "markdown",
   "metadata": {},
   "source": [
    "***\n",
    "**Programming**  \n",
    "data sample 1개가 다음과 같이 주어졌을 때,  \n",
    "- $(x^{(1)}) = (2)$  \n",
    "\n",
    "data sample들을 추가하여 $\\theta_{1}, \\theta_{0}$가 $\\theta_{1}^{*}, \\theta_{0}^{*}$에 direct하게 접근하도록 만들어보세요.\n",
    "\n",
    "- initial $\\theta_{1}, \\theta_{0}$ = 0.5, 1.2\n",
    "- learning rate = 0.1\n",
    "- total epoch = 20"
   ]
  },
  {
   "cell_type": "code",
   "execution_count": null,
   "metadata": {},
   "outputs": [],
   "source": [
    "##### Start Your Code(Learning Preparation) #####\n",
    "x_data = \n",
    "y_data = \n",
    "\n",
    "th1, th0 = \n",
    "lr = \n",
    "epochs = \n",
    "##### End Your Code(Learning Preparation) #####\n",
    "\n",
    "\n",
    "##### Start Your Code(Learning) #####\n",
    "th1_list, th0_list = \n",
    "##### End Your Code(Learning) #####\n",
    "\n",
    "\n",
    "# Result Visualization\n",
    "theta_tracker(x_data, y_data, th1_list, th0_list)"
   ]
  },
  {
   "cell_type": "markdown",
   "metadata": {},
   "source": [
    "**Expected Output**  \n",
    "<img src='./imgs/4_06_07.png' width=400>"
   ]
  },
  {
   "cell_type": "markdown",
   "metadata": {},
   "source": [
    "***\n",
    "## Step.3 Learning with Normal Distributions\n",
    "\n",
    "Step.3에서는 normal distribution에서부터 30개의 data sample을 만들고, 이 data sample들을 이용하여 $\\theta_{1}, \\theta_{0}$을 학습시킵니다.  \n",
    "이때 mean, standard deviation이 바뀔 때 mini-batch의 특성을 생각해보고 학습의 변화가 일어나는 이유를 생각해보세요.  \n",
    "그리고 코드들을 여러번 반복하여 같은 distribution에서도 다양한 cost function에 따른 학습을 확인해보세요.\n",
    "\n",
    "***\n",
    "**Programming**  \n",
    "다음의 조건에서의 $\\theta_{1}, \\theta_{0}$ 변화를 확인하고 결과를 수학적으로 분석하세요.\n",
    "- mean = 0\n",
    "- standard deviation = 1\n",
    "- n_sample = 30"
   ]
  },
  {
   "cell_type": "code",
   "execution_count": null,
   "metadata": {},
   "outputs": [],
   "source": [
    "##### Start Your Code(Learning Preparation) #####\n",
    "mu, std = \n",
    "n_sample = \n",
    "x_data = \n",
    "y_data = \n",
    "\n",
    "th1, th0 = \n",
    "lr = \n",
    "epochs = \n",
    "##### End Your Code(Learning Preparation) #####\n",
    "\n",
    "\n",
    "##### Start Your Code(Learning) #####\n",
    "th1_list, th0_list = \n",
    "##### End Your Code(Learning) #####\n",
    "\n",
    "\n",
    "# Result Visualization\n",
    "theta_tracker(x_data, y_data, th1_list, th0_list)"
   ]
  },
  {
   "cell_type": "markdown",
   "metadata": {},
   "source": [
    "**Expected Output**  \n",
    "<img src='./imgs/4_06_08.png' width=400>"
   ]
  },
  {
   "cell_type": "markdown",
   "metadata": {},
   "source": [
    "***\n",
    "**Programming**  \n",
    "다음의 조건에서의 $\\theta_{1}, \\theta_{0}$ 변화를 확인하고 결과를 수학적으로 분석하세요.\n",
    "- mean = 0\n",
    "- standard deviation = 3\n",
    "- n_sample = 30"
   ]
  },
  {
   "cell_type": "code",
   "execution_count": null,
   "metadata": {
    "scrolled": false
   },
   "outputs": [],
   "source": [
    "##### Start Your Code(Learning Preparation) #####\n",
    "mu, std = \n",
    "n_sample = \n",
    "x_data = \n",
    "y_data = \n",
    "\n",
    "th1, th0 = \n",
    "lr = \n",
    "epochs = \n",
    "##### End Your Code(Learning Preparation) #####\n",
    "\n",
    "\n",
    "##### Start Your Code(Learning) #####\n",
    "th1_list, th0_list = \n",
    "##### End Your Code(Learning) #####\n",
    "\n",
    "\n",
    "# Result Visualization\n",
    "theta_tracker(x_data, y_data, th1_list, th0_list)"
   ]
  },
  {
   "cell_type": "markdown",
   "metadata": {},
   "source": [
    "**Expected Output**  \n",
    "<img src='./imgs/4_06_09.png' width=400>"
   ]
  },
  {
   "cell_type": "markdown",
   "metadata": {},
   "source": [
    "***\n",
    "**Programming**  \n",
    "다음의 조건에서의 $\\theta_{1}, \\theta_{0}$ 변화를 확인하고 결과를 수학적으로 분석하세요.\n",
    "- mean = 0\n",
    "- standard deviation = 0.2\n",
    "- n_sample = 30"
   ]
  },
  {
   "cell_type": "code",
   "execution_count": null,
   "metadata": {},
   "outputs": [],
   "source": [
    "##### Start Your Code(Learning Preparation) #####\n",
    "mu, std = \n",
    "n_sample = \n",
    "x_data = \n",
    "y_data = \n",
    "\n",
    "th1, th0 = \n",
    "lr = \n",
    "epochs = \n",
    "##### End Your Code(Learning Preparation) #####\n",
    "\n",
    "\n",
    "##### Start Your Code(Learning) #####\n",
    "th1_list, th0_list = \n",
    "##### End Your Code(Learning) #####\n",
    "\n",
    "\n",
    "# Result Visualization\n",
    "theta_tracker(x_data, y_data, th1_list, th0_list)"
   ]
  },
  {
   "cell_type": "markdown",
   "metadata": {},
   "source": [
    "**Expected Output**  \n",
    "<img src='./imgs/4_06_10.png' width=400>"
   ]
  },
  {
   "cell_type": "markdown",
   "metadata": {},
   "source": [
    "***\n",
    "**Programming**  \n",
    "다음의 조건에서의 $\\theta_{1}, \\theta_{0}$ 변화를 확인하고 결과를 수학적으로 분석하세요.\n",
    "- mean = 2\n",
    "- standard deviation = 1\n",
    "- n_sample = 30"
   ]
  },
  {
   "cell_type": "code",
   "execution_count": null,
   "metadata": {},
   "outputs": [],
   "source": [
    "##### Start Your Code(Learning Preparation) #####\n",
    "mu, std = \n",
    "n_sample = \n",
    "x_data = \n",
    "y_data = \n",
    "\n",
    "th1, th0 = \n",
    "lr = \n",
    "epochs = \n",
    "##### End Your Code(Learning Preparation) #####\n",
    "\n",
    "\n",
    "##### Start Your Code(Learning) #####\n",
    "th1_list, th0_list = \n",
    "##### End Your Code(Learning) #####\n",
    "\n",
    "\n",
    "# Result Visualization\n",
    "theta_tracker(x_data, y_data, th1_list, th0_list)"
   ]
  },
  {
   "cell_type": "markdown",
   "metadata": {},
   "source": [
    "**Expected Output**  \n",
    "<img src='./imgs/4_06_11.png' width=400>"
   ]
  },
  {
   "cell_type": "markdown",
   "metadata": {},
   "source": [
    "***\n",
    "**Programming**  \n",
    "다음의 조건에서의 $\\theta_{1}, \\theta_{0}$ 변화를 확인하고 결과를 수학적으로 분석하세요.\n",
    "- mean = -2\n",
    "- standard deviation = 1\n",
    "- n_sample = 30"
   ]
  },
  {
   "cell_type": "code",
   "execution_count": null,
   "metadata": {},
   "outputs": [],
   "source": [
    "##### Start Your Code(Learning Preparation) #####\n",
    "mu, std = \n",
    "n_sample = \n",
    "x_data = \n",
    "y_data = \n",
    "\n",
    "th1, th0 = \n",
    "lr = \n",
    "epochs = \n",
    "##### End Your Code(Learning Preparation) #####\n",
    "\n",
    "\n",
    "##### Start Your Code(Learning) #####\n",
    "th1_list, th0_list = \n",
    "##### End Your Code(Learning) #####\n",
    "\n",
    "\n",
    "# Result Visualization\n",
    "theta_tracker(x_data, y_data, th1_list, th0_list)"
   ]
  },
  {
   "cell_type": "markdown",
   "metadata": {},
   "source": [
    "**Expected Output**  \n",
    "<img src='./imgs/4_06_12.png' width=400>"
   ]
  }
 ],
 "metadata": {
  "kernelspec": {
   "display_name": "Python 3",
   "language": "python",
   "name": "python3"
  },
  "language_info": {
   "codemirror_mode": {
    "name": "ipython",
    "version": 3
   },
   "file_extension": ".py",
   "mimetype": "text/x-python",
   "name": "python",
   "nbconvert_exporter": "python",
   "pygments_lexer": "ipython3",
   "version": "3.7.7"
  }
 },
 "nbformat": 4,
 "nbformat_minor": 4
}
