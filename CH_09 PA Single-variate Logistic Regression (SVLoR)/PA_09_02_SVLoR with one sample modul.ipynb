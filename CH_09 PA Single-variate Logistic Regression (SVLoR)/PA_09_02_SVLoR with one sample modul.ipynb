{
 "cells": [
  {
   "cell_type": "markdown",
   "metadata": {},
   "source": [
    "# Chapter.9.02 SVLoR for One Sample with Modularization\n",
    "\n",
    "PA 9.01에서 구현했던 SVLoR for One sample을 modularization을 통해서<br>\n",
    "구현한다"
   ]
  },
  {
   "cell_type": "markdown",
   "metadata": {},
   "source": [
    "### Step.1 Affine function"
   ]
  },
  {
   "cell_type": "code",
   "execution_count": null,
   "metadata": {},
   "outputs": [],
   "source": [
    "import numpy as np\n",
    "import matplotlib.pyplot as plt\n",
    "from matplotlib import cm\n",
    "import basic_nodes as nodes\n",
    "\n",
    "class Affine:\n",
    "    ### Start\n",
    "    def __init__(self):\n",
    "        self._feature_dim = \n",
    "        self._Th = \n",
    "        \n",
    "        self.node_imp()\n",
    "        self.random_initialization()\n",
    "\n",
    "    def node_imp(self):\n",
    "        self._node1 = nodes.mul_node()\n",
    "        self._node2 = nodes.plus_node()\n",
    "    \n",
    "    def random_initialization(self):\n",
    "        r_feature_dim = \n",
    "        self._Th = np.random.uniform(low = ,\n",
    "                                     high = ,\n",
    "                                     size = )\n",
    "    \n",
    "    def forward(self,x):\n",
    "        self._z1 = \n",
    "        self._z2 = \n",
    "\n",
    "        return self._z2\n",
    "    \n",
    "    def backward(self, dz, lr):\n",
    "        dth0, dz1 = \n",
    "        dth1, dx = \n",
    "\n",
    "        self._Th[1] = \n",
    "        self._Th[0] = \n",
    "    ### End\n",
    "    def get_Th(self):\n",
    "        return self._Th \n",
    "    "
   ]
  },
  {
   "cell_type": "markdown",
   "metadata": {},
   "source": [
    "### Step.2 Sigmoid\n"
   ]
  },
  {
   "cell_type": "code",
   "execution_count": null,
   "metadata": {},
   "outputs": [],
   "source": [
    "class Sigmoid:\n",
    "    def __init__(self):\n",
    "        self._pred = None\n",
    "    ### Start\n",
    "    def forward(self, z):\n",
    "        self._pred = \n",
    "        return self._pred\n",
    "    \n",
    "    def backward(self, dpred):\n",
    "        partial = \n",
    "        dz = \n",
    "        return dz\n",
    "    ### End"
   ]
  },
  {
   "cell_type": "markdown",
   "metadata": {},
   "source": [
    "### Step.3 BinaryCrossEntropy"
   ]
  },
  {
   "cell_type": "code",
   "execution_count": null,
   "metadata": {},
   "outputs": [],
   "source": [
    "class BinaryCrossEntropy_Loss:\n",
    "    def __init__(self):\n",
    "        self._y, self._pred = None, None\n",
    "    ### Start\n",
    "    def forward(self, y, pred):\n",
    "        self._y, self._pred = \n",
    "        loss = \n",
    "        return loss\n",
    "    \n",
    "    def backward(self):\n",
    "        dpred = \n",
    "        return dpred\n",
    "    ### End"
   ]
  },
  {
   "cell_type": "markdown",
   "metadata": {},
   "source": [
    "### Step.4 SVLoR"
   ]
  },
  {
   "cell_type": "code",
   "execution_count": null,
   "metadata": {},
   "outputs": [],
   "source": [
    "class SVLoR:\n",
    "    def __init__(self):\n",
    "        self._feature_dim = 1\n",
    "        self._affine = Affine()\n",
    "        self._sigmoid = Sigmoid()\n",
    "    ### Start\n",
    "    def forward(self, x):\n",
    "        z = \n",
    "        pred =  \n",
    "        return pred\n",
    "    \n",
    "    def backward(self, dpred, lr):\n",
    "        dz = \n",
    "        self._affine.backward(dz, lr)\n",
    "    ### End\n",
    "    def  get_Th(self):\n",
    "        return self._affine.get_Th()"
   ]
  },
  {
   "cell_type": "markdown",
   "metadata": {},
   "source": [
    "### Step.5 Visualization"
   ]
  },
  {
   "cell_type": "code",
   "execution_count": null,
   "metadata": {},
   "outputs": [],
   "source": [
    "def result_tracker():\n",
    "    global iter_idx, check_freq\n",
    "    global th_accum, model\n",
    "\n",
    "    if iter_idx % check_freq == 0:\n",
    "        th_accum = np.hstack((th_accum, model.get_Th()))\n",
    "        loss_list.append(loss)\n",
    "    iter_idx += 1\n",
    "def result_visualizer():\n",
    "    global th_accum, loss_list\n",
    "    fig,ax = plt.subplots(2, 1, figsize = (30,10))\n",
    "    fig.subplots_adjust(hspace = 0.3)\n",
    "    ax[0].set_title(r'$\\vec{\\theta}$' + 'Update ')\n",
    "\n",
    "    ax[0].plot(th_accum[1,:], label = r'$\\theta_{1}$')\n",
    "    ax[0].plot(th_accum[0,:], label = r'$\\theta_{0}$')\n",
    "\n",
    "    ax[0].legend()\n",
    "    iter_ticks = np.linspace(0,th_accum.shape[1],10).astype(np.int)\n",
    "    ax[0].set_xticks(iter_ticks)\n",
    "\n",
    "    ax[1].set_title(r'$\\mathcal{L}$')\n",
    "    ax[1].plot(loss_list)\n",
    "    ax[1].set_xticks(iter_ticks)\n",
    "\n",
    "    n_pred = 1000\n",
    "    fig,ax = plt.subplots(figsize = (30,10))\n",
    "    ax.set_title('Predictor Update')\n",
    "    ax.scatter(data[:,1], data[:,-1])\n",
    "\n",
    "    ax_idx_arr = np.linspace(0,len(loss_list)-1,n_pred).astype(np.int)\n",
    "    cmap = cm.get_cmap('rainbow',lut = len(ax_idx_arr))\n",
    "\n",
    "    x_pred = np.linspace(np.min(data[:,1]),np.max(data[:,1]),1000)\n",
    "    for ax_cnt, ax_idx in enumerate(ax_idx_arr):\n",
    "        z = th_accum[1, ax_idx] * x_pred + th_accum[0,ax_idx]\n",
    "        a = 1/(1 + np.exp(-1 * z))\n",
    "        ax.plot(x_pred, a, color = cmap(ax_cnt),alpha = 0.2)\n",
    "\n",
    "    y_ticks = np.round(np.linspace(0, 1, 7),2)\n",
    "    ax.set_yticks(y_ticks)"
   ]
  },
  {
   "cell_type": "markdown",
   "metadata": {},
   "source": [
    "### Step.6 Dataset"
   ]
  },
  {
   "cell_type": "code",
   "execution_count": null,
   "metadata": {},
   "outputs": [],
   "source": [
    "def dataset_generator(x_dict):\n",
    "    ### Start\n",
    "    x_data = np.random.normal()\n",
    "    x_data_noise = x_data + \n",
    "    \n",
    "    if x_dict['direction'] > 0:\n",
    "        y_data = (x_data_noise > x_dict['cutoff']).astype(np.int)\n",
    "    else:\n",
    "        y_data = (x_data_noise < x_dict['cutoff']).astype(np.int)\n",
    "    \n",
    "    data = np.zeros()\n",
    "    data = np.hstack()\n",
    "    ### End\n",
    "    return data"
   ]
  },
  {
   "cell_type": "markdown",
   "metadata": {},
   "source": [
    "### Step.7\n",
    "모듈화한 dataset_generator를 통해서 dataset을 생성합니다<br><br>\n",
    "\"\"\"<br>\n",
    "mean: 1<br>\n",
    "std: 1<br>\n",
    "n_sample: 300<br>\n",
    "noise_factor: 0.3<br>\n",
    "cutoff: 1<br>\n",
    "direction: -1<br>\n",
    "\"\"\"<br><br>"
   ]
  },
  {
   "cell_type": "code",
   "execution_count": null,
   "metadata": {},
   "outputs": [],
   "source": [
    "x_dict =  {'mean': , 'std': , 'n_sample': ,\n",
    "            'noise_factor': ,\n",
    "            'cutoff': , 'direction': }\n",
    "\n",
    "data = dataset_generator(x_dict)"
   ]
  },
  {
   "cell_type": "markdown",
   "metadata": {},
   "source": [
    "### Step.8\n",
    "model과 BinaryCrossEntropy 객체를 생성합니다<br>\n",
    "iter_idx: 0으로 초기화하고<br>\n",
    "check_freq:5로 초기화합니다<br>\n",
    "epochs는 300 lr은 0.01로 설정합니다"
   ]
  },
  {
   "cell_type": "code",
   "execution_count": null,
   "metadata": {},
   "outputs": [],
   "source": [
    "### Start\n",
    "model =  \n",
    "BCE_loss = \n",
    "\n",
    "th_accum = \n",
    "\n",
    "loss_list = []\n",
    "iter_idx, check_freq =\n",
    "epochs, lr =\n",
    "### End"
   ]
  },
  {
   "cell_type": "markdown",
   "metadata": {},
   "source": [
    "### Step.9 Training"
   ]
  },
  {
   "cell_type": "code",
   "execution_count": null,
   "metadata": {},
   "outputs": [],
   "source": [
    "for epoch in range(epochs):\n",
    "    np.random.shuffle(data)\n",
    "    \n",
    "    for data_idx in range(data.shape[0]):\n",
    "        ### Start\n",
    "        x,y =  \n",
    "\n",
    "        pred = \n",
    "        loss =\n",
    "\n",
    "        dpred =\n",
    "        model.backward(dpred, lr)\n",
    "        ### End\n",
    "        result_tracker()\n",
    "result_visualizer()"
   ]
  },
  {
   "cell_type": "markdown",
   "metadata": {},
   "source": [
    "**Expected Output** \n",
    "<img src='./img_9/9_03.png' width = 700>\n",
    "<img src='./img_9/9_04.png' width = 700>"
   ]
  }
 ],
 "metadata": {
  "kernelspec": {
   "display_name": "Python 3",
   "language": "python",
   "name": "python3"
  },
  "language_info": {
   "codemirror_mode": {
    "name": "ipython",
    "version": 3
   },
   "file_extension": ".py",
   "mimetype": "text/x-python",
   "name": "python",
   "nbconvert_exporter": "python",
   "pygments_lexer": "ipython3",
   "version": "3.6.7"
  }
 },
 "nbformat": 4,
 "nbformat_minor": 4
}
