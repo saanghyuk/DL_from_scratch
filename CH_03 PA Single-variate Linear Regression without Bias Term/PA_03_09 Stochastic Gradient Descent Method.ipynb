{
 "cells": [
  {
   "cell_type": "markdown",
   "metadata": {},
   "source": [
    "# Chapter.3 Single-variate Linear Regression without Bias Term\n",
    "\n",
    "## Programming Assignment.3-09 Stochastic Gradient Descent Method\n",
    "\n",
    "PA 3-09에서는 data sample을 하나씩 사용하여 $\\theta$를 학습시키는 Stochastic Gradient Descent Method(이하 SGDM)를 구현합니다.  \n",
    "참고로 이 SGDM이 만들어질 때는 data sample을 하나씩 사용하는 방법으로 개발되었으나, parallel computing의 발전으로  \n",
    "현재는 mini-batch를 사용할 때도 SGDM으로 표현하는 경우가 많습니다.\n",
    "\n",
    "PA 3-09에서는 다음과 같이 2단계를 통해 SGDM에 대하여 with replacement, without replacement 2가지를 구현합니다.\n",
    "\n",
    "<ul>\n",
    "    <li> Step.1 SGDM without Replacement </li>\n",
    "    <li> Step.1 SGDM with Replacement </li>\n",
    "</ul>\n",
    "\n",
    "먼저 다음 셀을 실행합니다."
   ]
  },
  {
   "cell_type": "code",
   "execution_count": 1,
   "metadata": {},
   "outputs": [],
   "source": [
    "\n",
    "import numpy as np\n",
    "import matplotlib.pyplot as plt\n",
    "import matplotlib.cm as cm\n",
    "\n",
    "import os\n",
    "import sys\n",
    "utils_path = os.path.dirname(os.path.abspath(__name__)) + '/../utils/'\n",
    "if utils_path not in sys.path:    \n",
    "    sys.path.append(utils_path)\n",
    "\n",
    "import basic_nodes as nodes\n",
    "from LR_dataset_generator import LR_dataset_generator\n",
    "    \n",
    "plt.style.use('seaborn')\n",
    "np.random.seed(0)"
   ]
  },
  {
   "cell_type": "markdown",
   "metadata": {},
   "source": [
    "그리고 PA 3-08 사용했던 것처럼 default dataset을 불러오고,  \n",
    "SGDM은 data sample을 하나만 이용하기 때문에 PA 3-06의 model/loss implementation 코드를 복사/붙여넣기 해줍니다."
   ]
  },
  {
   "cell_type": "code",
   "execution_count": null,
   "metadata": {},
   "outputs": [],
   "source": [
    "##### Start Your Code(Dataset Preparation) #####\n",
    "\n",
    "##### End Your Code(Dataset Preparation) #####\n",
    "\n",
    "\n",
    "##### Start Your Code(Model/Loss Implementation) #####\n",
    "\n",
    "##### End Your Code(Model/Loss Implementation) #####"
   ]
  },
  {
   "cell_type": "markdown",
   "metadata": {},
   "source": [
    "***\n",
    "## Step.1 SGDM without Replacement\n",
    "\n",
    "replacement 없이 SGDM을 사용하면 dataset에 들어있는 data sample들을 하나씩 이용하게 됩니다.\n",
    "\n",
    "따라서 다음과 같이 1개를 사용하면 다음 iteration에서 dataset에는 해당 data sample을 사용할 수 없습니다.\n",
    "<img src='./imgs/3_09_01.png' width = 800>\n",
    "<img src='./imgs/3_09_02.png' width = 800>\n",
    "\n",
    "위의 과정은 단순히 for loop을 이용하여 data sample에 하나씩 접근함으로써 구현할 수 있습니다.  \n",
    "이때 한 번의 epoch이 끝나면 random shuffle을 하여 data sample을 사용하는 cycle이 만들어지는 것을 방지합니다.\n",
    "\n",
    "***\n",
    "**Programming**  \n",
    "for loop을 이용하여 다음과 같은 조건에서의 SGDM without replacement를 구현하세요.\n",
    "- initial theta = 0.1\n",
    "- learning rate = 0.01\n",
    "- total epoch = 3"
   ]
  },
  {
   "cell_type": "code",
   "execution_count": null,
   "metadata": {
    "scrolled": true
   },
   "outputs": [],
   "source": [
    "##### Start Your Code(Learning Preparation) #####\n",
    "th = \n",
    "lr = \n",
    "epochs = \n",
    "##### End Your Code(Learning Preparation) #####\n",
    "\n",
    "th_list = []\n",
    "loss_list = []\n",
    "    \n",
    "for epoch in range(epochs):\n",
    "    ##### Start Your Code(Random Shuffling) #####\n",
    "    \n",
    "    ##### End Your Code(Random Shuffling) #####\n",
    "    \n",
    "    \n",
    "    ##### Start Your Code(SGDM without Replacement) #####\n",
    "    \n",
    "    ##### Start Your Code(SGDM without Replacement) #####\n",
    "\n",
    "fig, ax = plt.subplots(2, 1, figsize = (15,8))\n",
    "fig.subplots_adjust(hspace = 0.3)\n",
    "ax[0].plot(th_list)\n",
    "ax[1].plot(loss_list)\n",
    "ax[0].tick_params(axis = 'both', labelsize = 20)\n",
    "ax[1].tick_params(axis = 'both', labelsize = 20)\n",
    "ax[0].set_title(r'$\\theta$', fontsize = 30)\n",
    "ax[1].set_title(r'$\\mathcal{L}$', fontsize = 30)"
   ]
  },
  {
   "cell_type": "markdown",
   "metadata": {},
   "source": [
    "**Expected Output**  \n",
    "<img src='./imgs/3_09_05.png' width = 700>"
   ]
  },
  {
   "cell_type": "markdown",
   "metadata": {},
   "source": [
    "***\n",
    "## Step.2 SGDM with Replacement\n",
    "\n",
    "data sample 하나를 사용하여 $\\theta$를 update시키고 replacement를 해주는 SGDM의 진행은 다음과 같습니다.\n",
    "\n",
    "<img src='./imgs/3_09_03.png' width = 800>\n",
    "<img src='./imgs/3_09_04.png' width = 800>\n",
    "\n",
    "즉, data sample 하나를 뽑아 $\\theta$를 update 시켜도 다음 iteration에서도 동일한 data sample을 사용할 확률이 있습니다.\n",
    "\n",
    "이때 without replacement와의 차이점은 for loop을 이용하여 data sample에 접근하지 않고,  \n",
    "random sampling을 하여 data sample을 뽑아줍니다.  \n",
    "따라서 epoch보단 iteration의 표현이 더 적절합니다.\n",
    "\n",
    "***\n",
    "**Programming**  \n",
    "다음의 조건에서 replacement를 해주는 SGDM을 구현하세요.  \n",
    "이때 idx에는 data index의 array를 할당하고, random choice를 이용하여 random_idx에 하나의 index를 sampling 해줍니다.  \n",
    "- initial theta = 0.1\n",
    "- learning rate = 0.01\n",
    "- total iteration = 500\n",
    "\n",
    "(Hint.1) np.arange()  \n",
    "(Hint.2) np.random.choice()"
   ]
  },
  {
   "cell_type": "code",
   "execution_count": null,
   "metadata": {},
   "outputs": [],
   "source": [
    "##### Start Your Code(Learning Preparation) #####\n",
    "th = \n",
    "lr = \n",
    "iterations = \n",
    "##### End Your Code(Learning Preparation) #####\n",
    "\n",
    "th_list = []\n",
    "loss_list = []\n",
    "    \n",
    "for itertaion in range(iterations):\n",
    "    ##### Start Your Code(SGDM with Replacement) #####\n",
    "    \n",
    "    ##### End Your Code(SGDM with Replacement) #####\n",
    "    \n",
    "fig, ax = plt.subplots(2, 1, figsize = (15,8))\n",
    "fig.subplots_adjust(hspace = 0.3)\n",
    "ax[0].plot(th_list)\n",
    "ax[1].plot(loss_list)\n",
    "ax[0].tick_params(axis = 'both', labelsize = 20)\n",
    "ax[1].tick_params(axis = 'both', labelsize = 20)\n",
    "ax[0].set_title(r'$\\theta$', fontsize = 30)\n",
    "ax[1].set_title(r'$\\mathcal{L}$', fontsize = 30)"
   ]
  },
  {
   "cell_type": "markdown",
   "metadata": {},
   "source": [
    "**Expected Output**  \n",
    "<img src='./imgs/3_09_06.png' width = 700>"
   ]
  }
 ],
 "metadata": {
  "kernelspec": {
   "display_name": "Python 3",
   "language": "python",
   "name": "python3"
  },
  "language_info": {
   "codemirror_mode": {
    "name": "ipython",
    "version": 3
   },
   "file_extension": ".py",
   "mimetype": "text/x-python",
   "name": "python",
   "nbconvert_exporter": "python",
   "pygments_lexer": "ipython3",
   "version": "3.7.7"
  }
 },
 "nbformat": 4,
 "nbformat_minor": 4
}
