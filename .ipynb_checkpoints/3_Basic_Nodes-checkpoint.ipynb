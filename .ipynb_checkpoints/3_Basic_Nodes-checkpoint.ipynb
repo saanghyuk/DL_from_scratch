{
 "cells": [
  {
   "cell_type": "markdown",
   "metadata": {},
   "source": [
    "### Plus Node"
   ]
  },
  {
   "cell_type": "code",
   "execution_count": 6,
   "metadata": {},
   "outputs": [],
   "source": [
    "class plus_node:\n",
    "    def __init__(self):\n",
    "        self._x, self._y = None, None\n",
    "        self._z = None\n",
    "    def forward(self, x, y):\n",
    "        self._x, self._y = x, y\n",
    "        self._z = self._x + self._y\n",
    "        return self._z\n",
    "    def backward(self, dz):\n",
    "        return dz, dz,"
   ]
  },
  {
   "cell_type": "markdown",
   "metadata": {},
   "source": [
    "### Minus Node"
   ]
  },
  {
   "cell_type": "code",
   "execution_count": 7,
   "metadata": {},
   "outputs": [],
   "source": [
    "class minus_node:\n",
    "    def __init__(self):\n",
    "        self._x, self._y = None, None\n",
    "        self._z = None \n",
    "    def forward(self, x, y):\n",
    "        self._x, self._y = x, y\n",
    "        self._z = self._x - self._y\n",
    "        return self._z\n",
    "    def backward(self, dz):\n",
    "        return dz, -1*dz"
   ]
  },
  {
   "cell_type": "markdown",
   "metadata": {},
   "source": [
    "### Mul Node"
   ]
  },
  {
   "cell_type": "code",
   "execution_count": 8,
   "metadata": {},
   "outputs": [],
   "source": [
    "class mul_node:\n",
    "    def __init__(self):\n",
    "        self._x, self._y = None, None\n",
    "        self._z = None\n",
    "    def forward(self, x, y):\n",
    "        self._x, self._y = x, y\n",
    "        self._z = self._x * self._y\n",
    "        return self._z\n",
    "    def backward(self, dz):\n",
    "        return self._y * dz, self._x * dz"
   ]
  },
  {
   "cell_type": "markdown",
   "metadata": {},
   "source": [
    "### Square Node"
   ]
  },
  {
   "cell_type": "code",
   "execution_count": 10,
   "metadata": {},
   "outputs": [],
   "source": [
    "class square_node:\n",
    "    def __init__(self):\n",
    "        self._x, self._y = None, None\n",
    "        self._z = None\n",
    "    def forward(self, x, y):\n",
    "        self._x = x\n",
    "        self._z = self._x * self._x \n",
    "        return self._z\n",
    "    def backward(self, dz):\n",
    "        return 2 * self._x * dz"
   ]
  },
  {
   "cell_type": "markdown",
   "metadata": {},
   "source": [
    "### Mean Node"
   ]
  },
  {
   "cell_type": "code",
   "execution_count": 12,
   "metadata": {},
   "outputs": [],
   "source": [
    "class mean_node:\n",
    "    def __init__(self):\n",
    "        self._x, self._y = None, None\n",
    "        self._z = None\n",
    "    def forward(self, x, y):\n",
    "        self._x = x\n",
    "        self._z = np.mean(self._x)\n",
    "        return self._z\n",
    "    def backward(self, dz):\n",
    "        return np.ones_like(self._x)*(1/len(self._x))*dz"
   ]
  },
  {
   "cell_type": "code",
   "execution_count": 13,
   "metadata": {},
   "outputs": [
    {
     "data": {
      "text/plain": [
       "array([1, 1, 1])"
      ]
     },
     "execution_count": 13,
     "metadata": {},
     "output_type": "execute_result"
    }
   ],
   "source": [
    "np.ones_like([1, 2, 3])"
   ]
  },
  {
   "cell_type": "code",
   "execution_count": null,
   "metadata": {},
   "outputs": [],
   "source": []
  }
 ],
 "metadata": {
  "kernelspec": {
   "display_name": "Python 3",
   "language": "python",
   "name": "python3"
  },
  "language_info": {
   "codemirror_mode": {
    "name": "ipython",
    "version": 3
   },
   "file_extension": ".py",
   "mimetype": "text/x-python",
   "name": "python",
   "nbconvert_exporter": "python",
   "pygments_lexer": "ipython3",
   "version": "3.8.5"
  }
 },
 "nbformat": 4,
 "nbformat_minor": 4
}
