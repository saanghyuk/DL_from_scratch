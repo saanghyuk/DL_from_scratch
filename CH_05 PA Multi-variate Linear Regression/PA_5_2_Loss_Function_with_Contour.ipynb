{
 "cells": [
  {
   "cell_type": "markdown",
   "metadata": {},
   "source": [
    "# Chapter.5 Single-variate Linear Regression\n",
    "\n",
    "## Programming Assignment.5-02 Loss Function with Contour Plot\n",
    "\n",
    "MVLR model\n",
    "$$\\hat{y} =\\theta_{2}x_{2} +  \\theta_{1}x_{1} + \\theta_{0}$$\n",
    "에 대한 square error loss는 다음과 같습니다.\n",
    "$$\\mathcal{L} = (y - \\hat{y})^{2} = (y - (\\theta_{2}x_{2} +  \\theta_{1}x_{1} + \\theta_{0}))^{2}$$\n",
    "즉, $\\mathcal{L}$은 $\\theta_{2}, \\theta_{1}, \\theta_{0}$에 대한 함수가 됩니다.\n",
    "이번 PA에서는 TA5.03에서 진행했던 것을 코드를 이용하여 <br>\n",
    "실제로 $\\theta$가 수학적으로 분석했던것처럼 update되는지 확인할 것이다<br>\n",
    "먼저 Dateset은 동일하게 $y =2x_{2} -  3x_{1} + 5$ 에서 생성되며<br>\n",
    "{(1,1,4), (3,2,5), (6,4,5)} 3개의 Data Sample에 대해서 진행할 것이다<br>\n"
   ]
  },
  {
   "cell_type": "code",
   "execution_count": null,
   "metadata": {},
   "outputs": [],
   "source": [
    "import numpy as np\n",
    "import matplotlib.pyplot as plt\n",
    "import matplotlib.cm as cm"
   ]
  },
  {
   "cell_type": "markdown",
   "metadata": {},
   "source": [
    "먼저 TA5.03의 1번에 해당하는 iteration을 코드로 진행할 것이다<br>\n",
    "(1,1,4)에 대해서 3번의 iteration을 진행하여<br>\n",
    "$\\theta$가 update되는 것을 확인한다"
   ]
  },
  {
   "cell_type": "code",
   "execution_count": null,
   "metadata": {},
   "outputs": [],
   "source": [
    "##### Start Your Code(Initial Setting) #####\n",
    "th2, th1, th0 = \n",
    "lr = \n",
    "x2 = \n",
    "x1 = \n",
    "y = \n",
    "epochs = \n",
    "##### End Your Code(Initial Setting) #####\n",
    "print(\"Before Update:\", th2, th1, th0)\n",
    "\n",
    "for epoch in range(epochs):\n",
    "    ##### Start Your Code(Partial Derivative Calculation) #####\n",
    "\n",
    "    \n",
    "    ##### Start Your Code(Partial Derivative Calculation) #####\n",
    "\n",
    "\n",
    "    ##### Start Your Code(Gradient Descent Method) #####\n",
    "\n",
    "    \n",
    "    ##### Start Your Code(Gradient Descent Method) #####\n",
    "    print(\"After Update epoch\",epoch+1,'\\t', th2, th1, th0)"
   ]
  },
  {
   "cell_type": "markdown",
   "metadata": {},
   "source": [
    "**Expected Output**  \n",
    "Before Update: 1 1 1<br>\n",
    "After Update epoch 1 \t 1.02 1.02 1.02<br>\n",
    "After Update epoch 2 \t 1.0388 1.0388 1.0388<br>\n",
    "After Update epoch 3 \t 1.0564719999999999 1.0564719999999999 1.0564719999999999"
   ]
  },
  {
   "cell_type": "markdown",
   "metadata": {},
   "source": [
    "같은 방식으로 (3,2,5)에 대해서도 3 epoch동안 update를 진행한다"
   ]
  },
  {
   "cell_type": "code",
   "execution_count": null,
   "metadata": {},
   "outputs": [],
   "source": [
    "##### Start Your Code(Initial Setting) #####\n",
    "th2, th1, th0 = \n",
    "lr = \n",
    "x2 = \n",
    "x1 = \n",
    "y = \n",
    "epochs = \n",
    "##### End Your Code(Initial Setting) #####\n",
    "print(\"Before Update:\", th2, th1, th0)\n",
    "\n",
    "for epoch in range(epochs):\n",
    "    ##### Start Your Code(Partial Derivative Calculation) #####\n",
    "\n",
    "    \n",
    "    ##### Start Your Code(Partial Derivative Calculation) #####\n",
    "\n",
    "\n",
    "    ##### Start Your Code(Gradient Descent Method) #####\n",
    "\n",
    "    \n",
    "    ##### Start Your Code(Gradient Descent Method) #####\n",
    "    print(\"After Update epoch\",epoch+1,'\\t', th2, th1, th0)"
   ]
  },
  {
   "cell_type": "markdown",
   "metadata": {},
   "source": [
    "**Expected Output** \n",
    "Before Update: 1 1 1<br>\n",
    "After Update epoch 1 \t 0.94 0.96 0.98<br>\n",
    "After Update epoch 2 \t 0.8967999999999999 0.9311999999999999 0.9656<br>\n",
    "After Update epoch 3 \t 0.8656959999999999 0.9104639999999999 0.955232"
   ]
  },
  {
   "cell_type": "markdown",
   "metadata": {},
   "source": [
    "같은 방식으로 (6,4,5)에 대해서도 3 epoch동안 update를 진행한다"
   ]
  },
  {
   "cell_type": "code",
   "execution_count": null,
   "metadata": {},
   "outputs": [],
   "source": [
    "##### Start Your Code(Initial Setting) #####\n",
    "th2, th1, th0 = \n",
    "lr = \n",
    "x2 = \n",
    "x1 = \n",
    "y = \n",
    "epochs = \n",
    "##### End Your Code(Initial Setting) #####\n",
    "print(\"Before Update:\", th2, th1, th0)\n",
    "\n",
    "for epoch in range(epochs):\n",
    "    ##### Start Your Code(Partial Derivative Calculation) #####\n",
    "\n",
    "    \n",
    "    ##### Start Your Code(Partial Derivative Calculation) #####\n",
    "\n",
    "\n",
    "    ##### Start Your Code(Gradient Descent Method) #####\n",
    "\n",
    "    \n",
    "    ##### Start Your Code(Gradient Descent Method) #####\n",
    "    print(\"After Update epoch\",epoch+1,'\\t', th2, th1, th0)"
   ]
  },
  {
   "cell_type": "markdown",
   "metadata": {},
   "source": [
    "**Expected Output** \n",
    "Before Update: 1 1 1<br>\n",
    "After Update epoch 1 \t 0.28 0.52 0.88<br>\n",
    "After Update epoch 2 \t 0.32319999999999993 0.5488 0.8872<br>\n",
    "After Update epoch 3 \t 0.320608 0.547072 0.886768"
   ]
  },
  {
   "cell_type": "markdown",
   "metadata": {},
   "source": [
    "## Data Sample (1,1,4) \n",
    "### Step.1 using $\\theta_{2},\\theta_{1}$\n",
    "이번에는 $\\theta$가 update되는 것을 Contour Plot을 통해서 확인 해볼것이다<br>\n",
    "먼저 (1,1,4) Data Sample을 사용하여<br>\n",
    "먼저 $\\theta_{0}$를 고정시키고 $\\theta_{2}$과 $\\theta_{1}$을 Contour Plot으로 나타냅니다\n",
    "<br>모델은 다음과 같이 $\\theta_{0}$을 고정시킨 형태로 될 것입니다\n",
    "$$\\hat{y} =\\theta_{2}x_{2} +  \\theta_{1}x_{1} + 5$$"
   ]
  },
  {
   "cell_type": "code",
   "execution_count": null,
   "metadata": {},
   "outputs": [],
   "source": [
    "##### Start Your Code(Data Sample Preparation) #####\n",
    "x2 = \n",
    "x1 = \n",
    "y = \n",
    "##### End Your Code(Data Sample Preparation) #####\n",
    "th2_range = np.linspace(-4, 3, 100)\n",
    "th1_range = np.linspace(-4, 3, 100)\n",
    "th0_range = np.linspace(-3, 3, 100)\n",
    "\n",
    "Th2, Th1 = np.meshgrid(th2_range, th1_range)\n",
    "\n",
    "##### Start Your Code(Loss Function) #####\n",
    "loss = \n",
    "##### End Your Code(Loss Function) #####\n",
    "\n",
    "%matplotlib inline\n",
    "fig, ax = plt.subplots(figsize = (7,7))\n",
    "levels = np.geomspace(np.min(loss) + 0.01, np.max(loss), 30)\n",
    "cmap = cm.get_cmap('Reds_r', lut = len(levels))\n",
    "ax.contour(Th2, Th1, loss, levels = levels, cmap = cmap)"
   ]
  },
  {
   "cell_type": "markdown",
   "metadata": {},
   "source": [
    "**Expected Output**  \n",
    "<img src='./imgs/5_02_1.png' width = 400>"
   ]
  },
  {
   "cell_type": "markdown",
   "metadata": {},
   "source": [
    "## Data Sample (1,1,4) \n",
    "### Step.2 using $\\theta_{2},\\theta_{0}$\n",
    "$\\theta_{1}$를 고정시키고 $\\theta_{2}$과 $\\theta_{0}$을 Contour Plot으로 나타냅니다\n",
    "<br>모델은 다음과 같이 $\\theta_{1}$을 고정시킨 형태로 될 것입니다\n",
    "$$\\hat{y} =\\theta_{2}x_{2} -  3x_{1} + \\theta_{0}$$"
   ]
  },
  {
   "cell_type": "code",
   "execution_count": null,
   "metadata": {},
   "outputs": [],
   "source": [
    "##### Start Your Code(Data Sample Preparation) #####\n",
    "x2 = \n",
    "x1 = \n",
    "y = \n",
    "##### End Your Code(Data Sample Preparation) #####\n",
    "th2_range = np.linspace(1, 6, 100)\n",
    "th1_range = np.linspace(1, 6, 100)\n",
    "th0_range = np.linspace(1, 6, 100)\n",
    "\n",
    "Th2, Th0 = np.meshgrid(th2_range, th0_range)\n",
    "\n",
    "##### Start Your Code(Loss Function) #####\n",
    "loss = \n",
    "##### End Your Code(Loss Function) #####\n",
    "\n",
    "%matplotlib inline\n",
    "fig, ax = plt.subplots(figsize = (7,7))\n",
    "levels = np.geomspace(np.min(loss) + 0.01, np.max(loss), 30)\n",
    "cmap = cm.get_cmap('Reds_r', lut = len(levels))\n",
    "ax.contour(Th2, Th0, loss, levels = levels, cmap = cmap)"
   ]
  },
  {
   "cell_type": "markdown",
   "metadata": {},
   "source": [
    "**Expected Output**  \n",
    "<img src='./imgs/5_02_2.png' width = 400>"
   ]
  },
  {
   "cell_type": "markdown",
   "metadata": {},
   "source": [
    "## Data Sample (1,1,4) \n",
    "### Step.3 using $\\theta_{1},\\theta_{0}$\n",
    "$\\theta_{2}$를 고정시키고 $\\theta_{1}$과 $\\theta_{0}$을 Contour Plot으로 나타냅니다\n",
    "<br>모델은 다음과 같이 $\\theta_{2}$을 고정시킨 형태로 될 것입니다\n",
    "$$\\hat{y} =2x_{2} + \\theta_{1}x_{1} + \\theta_{0}$$"
   ]
  },
  {
   "cell_type": "code",
   "execution_count": null,
   "metadata": {},
   "outputs": [],
   "source": [
    "##### Start Your Code(Data Sample Preparation) #####\n",
    "x2 = \n",
    "x1 = \n",
    "y = \n",
    "##### End Your Code(Data Sample Preparation) #####\n",
    "th2_range = np.linspace(-2, 4, 100)\n",
    "th1_range = np.linspace(-2, 4, 100)\n",
    "th0_range = np.linspace(-2, 4, 100)\n",
    "\n",
    "Th1, Th0 = np.meshgrid(th1_range, th0_range)\n",
    "\n",
    "##### Start Your Code(Loss Function) #####\n",
    "loss =\n",
    "##### End Your Code(Loss Function) #####\n",
    "\n",
    "%matplotlib inline\n",
    "fig, ax = plt.subplots(figsize = (7,7))\n",
    "levels = np.geomspace(np.min(loss) + 0.01, np.max(loss), 30)\n",
    "cmap = cm.get_cmap('Reds_r', lut = len(levels))\n",
    "ax.contour(Th1, Th0, loss, levels = levels, cmap = cmap)"
   ]
  },
  {
   "cell_type": "markdown",
   "metadata": {},
   "source": [
    "**Expected Output**  \n",
    "<img src='./imgs/5_02_3.png' width = 400>"
   ]
  },
  {
   "cell_type": "markdown",
   "metadata": {},
   "source": [
    "Data Sample (1,1,4)에 대해서 $\\theta$를 update시킨 결과는 TA의 5.03와 같이<br>\n",
    "동일하게 update되는 것을 확인 할수 있다"
   ]
  },
  {
   "cell_type": "markdown",
   "metadata": {},
   "source": [
    "## Data Sample (3,2,5) \n",
    "### Step.1 using $\\theta_{2},\\theta_{1}$\n",
    "이번에는 Data Sample (3,2,5)를 통해서 진행한다<br>\n",
    "방식은 이전과 동일하게<br>\n",
    "먼저 $\\theta_{0}$를 고정시키고 $\\theta_{2}$과 $\\theta_{1}$을 Contour Plot으로 나타냅니다\n",
    "<br>모델은 다음과 같이 $\\theta_{0}$을 고정시킨 형태로 될 것입니다\n",
    "$$\\hat{y} =\\theta_{2}x_{2} +  \\theta_{1}x_{1} + 5$$"
   ]
  },
  {
   "cell_type": "code",
   "execution_count": null,
   "metadata": {},
   "outputs": [],
   "source": [
    "##### Start Your Code(Data Sample Preparation) #####\n",
    "x2 = \n",
    "x1 = \n",
    "y = \n",
    "##### End Your Code(Data Sample Preparation) #####\n",
    "th2_range = np.linspace(-3, 3, 100)\n",
    "th1_range = np.linspace(-3, 3, 100)\n",
    "th0_range = np.linspace(-3, 3, 100)\n",
    "\n",
    "Th2, Th1 = np.meshgrid(th2_range, th1_range)\n",
    "\n",
    "##### Start Your Code(Loss Function) #####\n",
    "loss = \n",
    "##### End Your Code(Loss Function) #####\n",
    "\n",
    "%matplotlib inline\n",
    "fig, ax = plt.subplots(figsize = (7,7))\n",
    "levels = np.geomspace(np.min(loss) + 0.01, np.max(loss), 30)\n",
    "cmap = cm.get_cmap('Reds_r', lut = len(levels))\n",
    "ax.contour(Th2, Th1, loss, levels = levels, cmap = cmap)"
   ]
  },
  {
   "cell_type": "markdown",
   "metadata": {},
   "source": [
    "**Expected Output**  \n",
    "<img src='./imgs/5_02_4.png' width = 400>"
   ]
  },
  {
   "cell_type": "markdown",
   "metadata": {},
   "source": [
    "## Data Sample (3,2,5) \n",
    "### Step.2 using $\\theta_{2},\\theta_{0}$\n",
    "$\\theta_{1}$를 고정시키고 $\\theta_{2}$과 $\\theta_{0}$을 Contour Plot으로 나타냅니다\n",
    "<br>모델은 다음과 같이 $\\theta_{1}$을 고정시킨 형태로 될 것입니다\n",
    "$$\\hat{y} =\\theta_{2}x_{2} -  3x_{1} + \\theta_{0}$$"
   ]
  },
  {
   "cell_type": "code",
   "execution_count": null,
   "metadata": {},
   "outputs": [],
   "source": [
    "##### Start Your Code(Data Sample Preparation) #####\n",
    "x2 =\n",
    "x1 = \n",
    "y = \n",
    "##### End Your Code(Data Sample Preparation) #####\n",
    "th2_range = np.linspace(0, 6, 100)\n",
    "th1_range = np.linspace(0, 6, 100)\n",
    "th0_range = np.linspace(0, 6, 100)\n",
    "\n",
    "Th2, Th0 = np.meshgrid(th2_range, th0_range)\n",
    "\n",
    "##### Start Your Code(Loss Function) #####\n",
    "loss = \n",
    "##### End Your Code(Loss Function) #####\n",
    "\n",
    "%matplotlib inline\n",
    "fig, ax = plt.subplots(figsize = (7,7))\n",
    "levels = np.geomspace(np.min(loss) + 0.01, np.max(loss), 30)\n",
    "cmap = cm.get_cmap('Reds_r', lut = len(levels))\n",
    "ax.contour(Th2, Th0, loss, levels = levels, cmap = cmap)"
   ]
  },
  {
   "cell_type": "markdown",
   "metadata": {},
   "source": [
    "**Expected Output**  \n",
    "<img src='./imgs/5_02_5.png' width = 400>"
   ]
  },
  {
   "cell_type": "markdown",
   "metadata": {},
   "source": [
    "## Data Sample (3,2,5) \n",
    "### Step.3 using $\\theta_{1},\\theta_{0}$\n",
    "$\\theta_{2}$를 고정시키고 $\\theta_{1}$과 $\\theta_{0}$을 Contour Plot으로 나타냅니다\n",
    "<br>모델은 다음과 같이 $\\theta_{2}$을 고정시킨 형태로 될 것입니다\n",
    "$$\\hat{y} =2x_{2} + \\theta_{1}x_{1} + \\theta_{0}$$"
   ]
  },
  {
   "cell_type": "code",
   "execution_count": null,
   "metadata": {},
   "outputs": [],
   "source": [
    "##### Start Your Code(Data Sample Preparation) #####\n",
    "x2 = \n",
    "x1 = \n",
    "y = \n",
    "##### End Your Code(Data Sample Preparation) #####\n",
    "th2_range = np.linspace(-3, 3, 100)\n",
    "th1_range = np.linspace(-3, 3, 100)\n",
    "th0_range = np.linspace(-3, 3, 100)\n",
    "\n",
    "Th1, Th0 = np.meshgrid(th1_range, th0_range)\n",
    "\n",
    "##### Start Your Code(Loss Function) #####\n",
    "loss = \n",
    "##### End Your Code(Loss Function) #####\n",
    "\n",
    "%matplotlib inline\n",
    "fig, ax = plt.subplots(figsize = (7,7))\n",
    "levels = np.geomspace(np.min(loss) + 0.01, np.max(loss), 30)\n",
    "cmap = cm.get_cmap('Reds_r', lut = len(levels))\n",
    "ax.contour(Th1, Th0, loss, levels = levels, cmap = cmap)"
   ]
  },
  {
   "cell_type": "markdown",
   "metadata": {},
   "source": [
    "**Expected Output**  \n",
    "<img src='./imgs/5_02_6.png' width = 400>"
   ]
  },
  {
   "cell_type": "markdown",
   "metadata": {},
   "source": [
    "(1,1,4)의 Data Sample을 사용했을때와 비교해서 $\\theta$가 update되는 속도가 달라졌다<br>\n",
    "이는 x2와 x1의 크기가 3와 2로 변화되었기 때문에 update되는 $\\theta$가 달라지는 것이다"
   ]
  },
  {
   "cell_type": "markdown",
   "metadata": {},
   "source": [
    "## Data Sample (6,4,5) \n",
    "### Step.1 using $\\theta_{2},\\theta_{1}$\n",
    "이번에는 Data Sample (6,4,5)를 통해서 진행한다<br>\n",
    "방식은 이전과 동일하게<br>\n",
    "먼저 $\\theta_{0}$를 고정시키고 $\\theta_{2}$과 $\\theta_{1}$을 Contour Plot으로 나타냅니다\n",
    "<br>모델은 다음과 같이 $\\theta_{0}$을 고정시킨 형태로 될 것입니다\n",
    "$$\\hat{y} =\\theta_{2}x_{2} +  \\theta_{1}x_{1} + 5$$"
   ]
  },
  {
   "cell_type": "code",
   "execution_count": null,
   "metadata": {},
   "outputs": [],
   "source": [
    "##### Start Your Code(Data Sample Preparation) #####\n",
    "x2 = \n",
    "x1 = \n",
    "y = \n",
    "##### End Your Code(Data Sample Preparation) #####\n",
    "th2_range = np.linspace(-3, 3, 100)\n",
    "th1_range = np.linspace(-3, 3, 100)\n",
    "th0_range = np.linspace(-3, 3, 100)\n",
    "\n",
    "Th2, Th1 = np.meshgrid(th2_range, th1_range)\n",
    "\n",
    "##### Start Your Code(Loss Function) #####\n",
    "loss = \n",
    "##### End Your Code(Loss Function) #####\n",
    "\n",
    "%matplotlib inline\n",
    "fig, ax = plt.subplots(figsize = (7,7))\n",
    "levels = np.geomspace(np.min(loss) + 0.01, np.max(loss), 30)\n",
    "cmap = cm.get_cmap('Reds_r', lut = len(levels))\n",
    "ax.contour(Th2, Th1, loss, levels = levels, cmap = cmap)"
   ]
  },
  {
   "cell_type": "markdown",
   "metadata": {},
   "source": [
    "**Expected Output**  \n",
    "<img src='./imgs/5_02_7.png' width = 400>"
   ]
  },
  {
   "cell_type": "markdown",
   "metadata": {},
   "source": [
    "## Data Sample (6,4,5) \n",
    "### Step.2 using $\\theta_{2},\\theta_{0}$\n",
    "$\\theta_{1}$를 고정시키고 $\\theta_{2}$과 $\\theta_{0}$을 Contour Plot으로 나타냅니다\n",
    "<br>모델은 다음과 같이 $\\theta_{1}$을 고정시킨 형태로 될 것입니다\n",
    "$$\\hat{y} =\\theta_{2}x_{2} -  3x_{1} + \\theta_{0}$$"
   ]
  },
  {
   "cell_type": "code",
   "execution_count": null,
   "metadata": {},
   "outputs": [],
   "source": [
    "##### Start Your Code(Data Sample Preparation) #####\n",
    "x2 = \n",
    "x1 =\n",
    "y = \n",
    "##### End Your Code(Data Sample Preparation) #####\n",
    "th2_range = np.linspace(-1, 6, 100)\n",
    "th1_range = np.linspace(-1, 6, 100)\n",
    "th0_range = np.linspace(-1, 6, 100)\n",
    "\n",
    "Th2, Th0 = np.meshgrid(th2_range, th0_range)\n",
    "\n",
    "##### Start Your Code(Loss Function) #####\n",
    "loss = \n",
    "##### End Your Code(Loss Function) #####\n",
    "\n",
    "%matplotlib inline\n",
    "fig, ax = plt.subplots(figsize = (7,7))\n",
    "levels = np.geomspace(np.min(loss) + 0.01, np.max(loss), 30)\n",
    "cmap = cm.get_cmap('Reds_r', lut = len(levels))\n",
    "ax.contour(Th2, Th0, loss, levels = levels, cmap = cmap)"
   ]
  },
  {
   "cell_type": "markdown",
   "metadata": {},
   "source": [
    "**Expected Output**  \n",
    "<img src='./imgs/5_02_8.png' width = 400>"
   ]
  },
  {
   "cell_type": "markdown",
   "metadata": {},
   "source": [
    "## Data Sample (6,4,5) \n",
    "### Step.3 using $\\theta_{1},\\theta_{0}$\n",
    "$\\theta_{2}$를 고정시키고 $\\theta_{1}$과 $\\theta_{0}$을 Contour Plot으로 나타냅니다\n",
    "<br>모델은 다음과 같이 $\\theta_{2}$을 고정시킨 형태로 될 것입니다\n",
    "$$\\hat{y} =2x_{2} + \\theta_{1}x_{1} + \\theta_{0}$$"
   ]
  },
  {
   "cell_type": "code",
   "execution_count": null,
   "metadata": {},
   "outputs": [],
   "source": [
    "##### Start Your Code(Data Sample Preparation) #####\n",
    "x2 = \n",
    "x1 = \n",
    "y = \n",
    "##### End Your Code(Data Sample Preparation) #####\n",
    "th2_range = np.linspace(-5, 2, 100)\n",
    "th1_range = np.linspace(-5, 2, 100)\n",
    "th0_range = np.linspace(-5, 2, 100)\n",
    "\n",
    "Th1, Th0 = np.meshgrid(th1_range, th0_range)\n",
    "\n",
    "##### Start Your Code(Loss Function) #####\n",
    "loss = \n",
    "##### End Your Code(Loss Function) #####\n",
    "\n",
    "%matplotlib inline\n",
    "fig, ax = plt.subplots(figsize = (7,7))\n",
    "levels = np.geomspace(np.min(loss) + 0.01, np.max(loss), 30)\n",
    "cmap = cm.get_cmap('Reds_r', lut = len(levels))\n",
    "ax.contour(Th1, Th0, loss, levels = levels, cmap = cmap)"
   ]
  },
  {
   "cell_type": "markdown",
   "metadata": {},
   "source": [
    "**Expected Output**  \n",
    "<img src='./imgs/5_02_9.png' width = 400>"
   ]
  },
  {
   "cell_type": "markdown",
   "metadata": {},
   "source": [
    "(6,4,5) Data Sample의 경우는 (3,2,5)보다도 불균형하게 학습이 되는데<br>\n",
    "x2와 x2의 값이 각각 6와 4로 커졌기 때문에<br>\n",
    "3와 2에 비해서도 2배로 커졌기 때문에<br>\n",
    "update되는 속도가 확연히 다르고<br>\n",
    "특히 $\\theta_{2},\\theta_{1}$이 bias에 비해서 특히 빨리 update되는 모습을 볼수 있다"
   ]
  }
 ],
 "metadata": {
  "kernelspec": {
   "display_name": "Python 3",
   "language": "python",
   "name": "python3"
  },
  "language_info": {
   "codemirror_mode": {
    "name": "ipython",
    "version": 3
   },
   "file_extension": ".py",
   "mimetype": "text/x-python",
   "name": "python",
   "nbconvert_exporter": "python",
   "pygments_lexer": "ipython3",
   "version": "3.7.6"
  }
 },
 "nbformat": 4,
 "nbformat_minor": 4
}
