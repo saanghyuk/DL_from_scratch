{
 "cells": [
  {
   "cell_type": "markdown",
   "metadata": {},
   "source": [
    "# Chapter.7.04 Activation function\n",
    "\n",
    "PA 7.04에서는 PA 7.03에서 구현했던 Sigmoid 함수와 더불어<br>\n",
    "Tanh함수와 ReLU함수를 구현할 것입니다\n"
   ]
  },
  {
   "cell_type": "code",
   "execution_count": null,
   "metadata": {},
   "outputs": [],
   "source": [
    "import numpy as np\n",
    "import matplotlib.pyplot as plt\n",
    "\n",
    "import matplotlib.cm as cm\n",
    "\n",
    "import os\n",
    "import sys\n",
    "np.random.seed(0)\n"
   ]
  },
  {
   "cell_type": "markdown",
   "metadata": {},
   "source": [
    "***\n",
    "## tanh Function\n",
    "\n",
    "먼저 tanh function은 다음과 같은 식으로 표현된다.\n",
    "<center>\n",
    "$tanh(x) = \\frac{\\exp^{z} - \\exp^{-z}}{\\exp^{z} + \\exp^{-z}}$\n",
    "</center>\n",
    "이 tanh function을 numpy를 이용해 구현해보자."
   ]
  },
  {
   "cell_type": "code",
   "execution_count": null,
   "metadata": {},
   "outputs": [],
   "source": [
    "x_range = np.linspace(-10, 10, 1000)\n",
    "# Start tanhFunction\n",
    "y = \n",
    "# End tanh Function \n",
    "\n",
    "fig, ax = plt.subplots(figsize = (12, 5))\n",
    "ax.plot(x_range, y)\n",
    "ax.grid()"
   ]
  },
  {
   "cell_type": "markdown",
   "metadata": {},
   "source": [
    "**Expected Output** \n",
    "<img src='./img_7/7_04_1.png' width = 700>"
   ]
  },
  {
   "cell_type": "markdown",
   "metadata": {},
   "source": [
    "***\n",
    "## ReLU Function\n",
    "\n",
    "먼저 ReLU은 다음과 같은 식으로 표현된다.\n",
    "<center>\n",
    "$0 , wherez < 0$<br>\n",
    "$1 , wherez >= 0$\n",
    "</center>\n",
    "즉 다음과 같이 표현할 수 있다<br>\n",
    "<center>$max(0,z)$<br></center>\n",
    "이 ReLU function을 numpy를 이용해 구현해보자."
   ]
  },
  {
   "cell_type": "code",
   "execution_count": null,
   "metadata": {},
   "outputs": [],
   "source": [
    "\n",
    "x_range = np.linspace(-10, 10, 1000)\n",
    "# Start ReLU Function\n",
    "y = \n",
    "# End ReLU Function \n",
    "\n",
    "fig, ax = plt.subplots(figsize = (12, 5))\n",
    "ax.plot(x_range, y)\n",
    "ax.grid()"
   ]
  },
  {
   "cell_type": "markdown",
   "metadata": {},
   "source": [
    "**Expected Output** \n",
    "<img src='./img_7/7_04_02.png' width = 700>"
   ]
  }
 ],
 "metadata": {
  "kernelspec": {
   "display_name": "Python 3",
   "language": "python",
   "name": "python3"
  },
  "language_info": {
   "codemirror_mode": {
    "name": "ipython",
    "version": 3
   },
   "file_extension": ".py",
   "mimetype": "text/x-python",
   "name": "python",
   "nbconvert_exporter": "python",
   "pygments_lexer": "ipython3",
   "version": "3.7.6"
  }
 },
 "nbformat": 4,
 "nbformat_minor": 4
}
