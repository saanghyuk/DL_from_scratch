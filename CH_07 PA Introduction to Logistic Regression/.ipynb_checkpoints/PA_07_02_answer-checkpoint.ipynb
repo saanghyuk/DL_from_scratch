{
 "cells": [
  {
   "cell_type": "markdown",
   "metadata": {},
   "source": [
    "# Chapter.7.02 Classification with linear regression outliers\n",
    "\n",
    "PA7.01에서 Linear Regression을 통한 Classification도 가능한걸 확인했다\n",
    "이번에는 Dataset에 Outlier를 추가해서\n"
   ]
  },
  {
   "cell_type": "code",
   "execution_count": 1,
   "metadata": {},
   "outputs": [],
   "source": [
    "import numpy as np\n",
    "import matplotlib.pyplot as plt\n",
    "\n",
    "import matplotlib.cm as cm\n",
    "import basic_nodes as nodes \n",
    "\n",
    "import os\n",
    "import sys\n",
    "np.random.seed(0)\n"
   ]
  },
  {
   "cell_type": "markdown",
   "metadata": {},
   "source": [
    "## Step.1 Dataset Generator\n",
    "기존과 동일하게 \n",
    "Pass 학생과 Non Pass 학생을 각각 50명씩 생성한다<br>\n",
    "학생 최소/최대 공부시간을 hour_m,hour_M으로 잡고 decision boundary를 hour_b로 만든다<br>\n",
    "NP 학생들은 0 ~ 5시간 공부시간을 가지고 P학생들은  5 ~ 10시간의 공부시간을 가진다<br><br>\n",
    "\n",
    "Pass 학생과 Non Pass 학생의 y값은 각각 1, 0으로 만든다<br><br>\n",
    "\n",
    "추가로 Outlier 학생들을 더해주는데<br>\n",
    "20명의 학생들을 최소/최대 공부시간을 20~23시간으로 가지게 만든다<br>\n",
    "마찬가지로 Pass 학생이므로 y값은 1로 한다"
   ]
  },
  {
   "cell_type": "code",
   "execution_count": 2,
   "metadata": {},
   "outputs": [
    {
     "name": "stdout",
     "output_type": "stream",
     "text": [
      "study_hour_P: [7.74406752 8.57594683 8.01381688 7.72441591 7.118274  ]\n",
      "study_hour_NP: [2.85098385 2.19300757 4.94186919 0.51022405 1.04438378]\n",
      "result_P: [1. 1. 1. 1. 1.]\n",
      "result_NP: [0. 0. 0. 0. 0.] \n",
      "\n",
      "study_hour_P.shape: (70,)\n",
      "study_hour_NP.shape: (50,)\n",
      "result_P.shape: (70,)\n",
      "result_NP.shape: (50,)\n"
     ]
    }
   ],
   "source": [
    "n_P, n_NP = 50, 50\n",
    "hour_m, hour_b, hour_M = 0, 5, 10\n",
    "\n",
    "### Start Dataset Genaration\n",
    "study_hour_P = np.random.uniform(low = hour_b, high = hour_M, size = (n_P,))\n",
    "study_hour_NP = np.random.uniform(low = hour_m, high = hour_b, size = (n_NP,))\n",
    "\n",
    "\n",
    "\n",
    "result_P = np.ones_like(study_hour_P)\n",
    "result_NP = np.zeros_like(study_hour_NP)\n",
    "\n",
    "### End Dataset Generation\n",
    "n_out = 20\n",
    "hour_out_m, hour_out_M = 20, 23\n",
    "### Start Adding Outliers\n",
    "study_hour_outlier = np.random.uniform(low = hour_out_m, high = hour_out_M, size = n_out)\n",
    "result_outlier = np.ones_like(study_hour_outlier)\n",
    "\n",
    "study_hour_P = np.append(study_hour_P,study_hour_outlier)\n",
    "result_P = np.append(result_P,result_outlier)\n",
    "### End Adding Outliers\n",
    "\n",
    "\n",
    "\n",
    "\n",
    "print(\"study_hour_P:\", study_hour_P[:5])\n",
    "print(\"study_hour_NP:\", study_hour_NP[:5])\n",
    "print(\"result_P:\", result_P[:5])\n",
    "print(\"result_NP:\", result_NP[:5], '\\n')\n",
    "print(\"study_hour_P.shape:\", study_hour_P.shape)\n",
    "print(\"study_hour_NP.shape:\", study_hour_NP.shape)\n",
    "print(\"result_P.shape:\", result_P.shape)\n",
    "print(\"result_NP.shape:\", result_NP.shape)"
   ]
  },
  {
   "cell_type": "markdown",
   "metadata": {},
   "source": [
    "##  Step.2 Dataset Visualization"
   ]
  },
  {
   "cell_type": "code",
   "execution_count": 3,
   "metadata": {},
   "outputs": [
    {
     "data": {
      "image/png": "[encoded data removed]",
      "text/plain": [
       "<Figure size 864x360 with 1 Axes>"
      ]
     },
     "metadata": {
      "needs_background": "light"
     },
     "output_type": "display_data"
    }
   ],
   "source": [
    "\n",
    "x_data = np.hstack([study_hour_P,study_hour_NP])\n",
    "y_data = np.hstack([result_P,result_NP])\n",
    "\n",
    "\n",
    "fig, ax = plt.subplots(figsize = (12,5))\n",
    "ax.plot(x_data[:n_P + n_out], y_data[:n_P + n_out], 'bo')\n",
    "ax.plot(x_data[n_P + n_out:], y_data[n_P + n_out:], 'ro')\n",
    "ax.grid()"
   ]
  },
  {
   "cell_type": "markdown",
   "metadata": {},
   "source": [
    "## Step.3 Parameter 설정\n",
    "basic_nodes에서 필요한 node들을 import 하고<br>\n",
    "학습에 필요한 Parameter들을 설정해줍니다\n",
    "* lr  = 0.01\n",
    "* epochs = 30000\n",
    "* 초기 theta 값 = 0.1, 0.1"
   ]
  },
  {
   "cell_type": "code",
   "execution_count": 4,
   "metadata": {},
   "outputs": [],
   "source": [
    "node1 = nodes.mul_node()\n",
    "node2 = nodes.plus_node()\n",
    "node3 = nodes.minus_node()\n",
    "node4 = nodes.square_node()\n",
    "node5 = nodes.mean_node()"
   ]
  },
  {
   "cell_type": "code",
   "execution_count": 5,
   "metadata": {},
   "outputs": [],
   "source": [
    "th_list = [0.1, 0.1]\n",
    "lr = 0.01\n",
    "epochs = 50000\n",
    "cost_list = []\n",
    "theta1_list, theta0_list = [], []"
   ]
  },
  {
   "cell_type": "markdown",
   "metadata": {},
   "source": [
    "## Step.4 Learning\n",
    "PA 7.01와 동일한 방법으로 학습합니다"
   ]
  },
  {
   "cell_type": "code",
   "execution_count": 6,
   "metadata": {},
   "outputs": [],
   "source": [
    "for i in range(epochs):\n",
    "\n",
    "    Z1 = node1.forward(th_list[1],x_data)\n",
    "    Z2 = node2.forward(Z1,th_list[0])\n",
    "    Z3 = node3.forward(y_data,Z2)\n",
    "    L = node4.forward(Z3)\n",
    "    J = node5.forward(L)\n",
    "    \n",
    "    dL = node5.backward(J)\n",
    "    dZ3 = node4.backward(dL)\n",
    "    dY, dZ2 = node3.backward(dZ3)\n",
    "    dZ1, dTheta0 = node2.backward(dZ2)\n",
    "    dTheta1, dX = node1.backward(dZ1)\n",
    "\n",
    "    \n",
    "    th_list[1] = th_list[1] - lr*np.sum(dTheta1)\n",
    "    th_list[0] = th_list[0] - lr*np.sum(dTheta0)\n",
    "    \n",
    "    cost_list.append(J)\n",
    "    theta1_list.append(th_list[1])\n",
    "    theta0_list.append(th_list[0])"
   ]
  },
  {
   "cell_type": "markdown",
   "metadata": {},
   "source": [
    "## Step.5 Visualization"
   ]
  },
  {
   "cell_type": "code",
   "execution_count": 7,
   "metadata": {},
   "outputs": [
    {
     "data": {
      "image/png": "[encoded data removed]",
      "text/plain": [
       "<Figure size 864x576 with 2 Axes>"
      ]
     },
     "metadata": {
      "needs_background": "light"
     },
     "output_type": "display_data"
    },
    {
     "data": {
      "image/png": "[encoded data removed]",
      "text/plain": [
       "<Figure size 864x360 with 1 Axes>"
      ]
     },
     "metadata": {
      "needs_background": "light"
     },
     "output_type": "display_data"
    }
   ],
   "source": [
    "fig, ax = plt.subplots(2, 1, figsize = (12, 8))\n",
    "ax[0].set_title(\"Cost\")\n",
    "ax[1].set_title(r'$\\theta_{1} \\quad and \\quad \\theta_{0}$')\n",
    "ax[0].plot(cost_list)\n",
    "ax[1].plot(theta1_list, label = r'$\\theta_{1}$')\n",
    "ax[1].plot(theta0_list, label = r'$\\theta_{0}$')\n",
    "ax[1].legend(loc = 'upper right', fontsize = 20)\n",
    "\n",
    "x_min, x_max = x_data.min(), x_data.max()\n",
    "y_min, y_max = x_min*th_list[1] + th_list[0], x_max*th_list[1] + th_list[0]\n",
    "x_range = np.linspace(x_min, x_max, 1000)\n",
    "y_range = x_range*th_list[1] + th_list[0]\n",
    "y_d_idx = np.where(np.abs(y_range - 0.5) == np.min(np.abs(y_range - 0.5)))\n",
    "x_d_val = x_range[y_d_idx]\n",
    "\n",
    "fig, ax = plt.subplots(figsize = (12,5))\n",
    "ax.plot(x_data[:n_P + n_out], y_data[:n_P + n_out], 'bo')\n",
    "ax.plot(x_data[n_P + n_out:], y_data[n_P + n_out:], 'ro')\n",
    "ax.plot([x_min, x_max], [y_min, y_max], 'r', linewidth = 2)\n",
    "ax.plot([x_range[y_d_idx], x_range[y_d_idx]], [0, y_range[y_d_idx]], 'purple', linewidth = 3)\n",
    "ax.plot(x_range[y_d_idx], y_range[y_d_idx], 'purple', marker = 'o', markersize = 10)\n",
    "ax.text(x_range[y_d_idx]*1.05, y_range[y_d_idx],\n",
    "        s = \"Decision Boundary:\" + str(np.round(x_range[y_d_idx], 2)),\n",
    "       fontdict = {'color':  'purple', 'fontsize': 20})\n",
    "ax.grid()"
   ]
  },
  {
   "cell_type": "markdown",
   "metadata": {},
   "source": [
    "PA 7.01에서는 학습이 잘된것과는 달리 Outlier의 영향으로 인해<br>\n",
    "Decision Boundary가 Outlier쪽으로 치우친 모습을 확인할 수 있다"
   ]
  }
 ],
 "metadata": {
  "kernelspec": {
   "display_name": "Python 3",
   "language": "python",
   "name": "python3"
  },
  "language_info": {
   "codemirror_mode": {
    "name": "ipython",
    "version": 3
   },
   "file_extension": ".py",
   "mimetype": "text/x-python",
   "name": "python",
   "nbconvert_exporter": "python",
   "pygments_lexer": "ipython3",
   "version": "3.7.6"
  }
 },
 "nbformat": 4,
 "nbformat_minor": 4
}
